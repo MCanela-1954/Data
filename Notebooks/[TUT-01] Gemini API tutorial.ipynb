{
  "nbformat": 4,
  "nbformat_minor": 0,
  "metadata": {
    "colab": {
      "provenance": [],
      "authorship_tag": "ABX9TyM93EHU4Ldsac2BU8pSnizt",
      "include_colab_link": true
    },
    "kernelspec": {
      "name": "python3",
      "display_name": "Python 3"
    },
    "language_info": {
      "name": "python"
    }
  },
  "cells": [
    {
      "cell_type": "markdown",
      "metadata": {
        "id": "view-in-github",
        "colab_type": "text"
      },
      "source": [
        "<a href=\"https://colab.research.google.com/github/MCanela-1954/Data/blob/main/Notebooks/%5BTUT-01%5D%20Gemini%20API%20tutorial.ipynb\" target=\"_parent\"><img src=\"https://colab.research.google.com/assets/colab-badge.svg\" alt=\"Open In Colab\"/></a>"
      ]
    },
    {
      "cell_type": "markdown",
      "source": [
        "# [TUT-01] Gemini API tutorial"
      ],
      "metadata": {
        "id": "YEQ2M7VtEuFQ"
      }
    },
    {
      "cell_type": "markdown",
      "source": [
        "## Setup"
      ],
      "metadata": {
        "id": "X-dNcUMcE7mO"
      }
    },
    {
      "cell_type": "code",
      "source": [
        "from google import genai"
      ],
      "metadata": {
        "id": "wYsZ9X50ExAK"
      },
      "execution_count": null,
      "outputs": []
    },
    {
      "cell_type": "code",
      "source": [
        "from google.colab import userdata\n",
        "client = genai.Client(api_key=userdata.get('GOOGLE_API_KEY'))"
      ],
      "metadata": {
        "id": "h9z_Qkpmyu7T"
      },
      "execution_count": null,
      "outputs": []
    },
    {
      "cell_type": "code",
      "source": [
        "model_name='gemini-2.0-flash'"
      ],
      "metadata": {
        "id": "eoTVedjX54Ob"
      },
      "execution_count": null,
      "outputs": []
    },
    {
      "cell_type": "markdown",
      "source": [
        "## First example"
      ],
      "metadata": {
        "id": "vR8acTBeUNhK"
      }
    },
    {
      "cell_type": "code",
      "source": [
        "query = 'Who is Inés Alegre?'\n",
        "response = client.models.generate_content(\n",
        "    contents = query,\n",
        "    model = model_name)"
      ],
      "metadata": {
        "id": "tCiMp4Pl_NFo"
      },
      "execution_count": null,
      "outputs": []
    },
    {
      "cell_type": "code",
      "source": [
        "print(response.text)"
      ],
      "metadata": {
        "id": "GiUzihcYF6TV",
        "collapsed": true
      },
      "execution_count": null,
      "outputs": []
    },
    {
      "cell_type": "markdown",
      "source": [
        "## Second example"
      ],
      "metadata": {
        "id": "iW3IuZoOWCqK"
      }
    },
    {
      "cell_type": "code",
      "source": [
        "query = 'SWOT analysis of IESE Business School'\n",
        "response = client.models.generate_content(\n",
        "    contents = query,\n",
        "    model = model_name)\n",
        "print(response.text)"
      ],
      "metadata": {
        "id": "shb5MDEeFMry",
        "collapsed": true
      },
      "execution_count": null,
      "outputs": []
    },
    {
      "cell_type": "markdown",
      "source": [
        "## Third example"
      ],
      "metadata": {
        "id": "Lwzvt1k_4ZDV"
      }
    },
    {
      "cell_type": "code",
      "source": [
        "from google.genai import types"
      ],
      "metadata": {
        "id": "xbtObzi29UxB"
      },
      "execution_count": null,
      "outputs": []
    },
    {
      "cell_type": "code",
      "source": [
        "instruction = '''\n",
        "You will be provided with customer service queries.\n",
        "Classify each query into a primary category and a secondary category.\n",
        "Provide your output in JSON format with the keys: \"primary\" and \"secondary\".\n",
        "'''"
      ],
      "metadata": {
        "id": "jWZVArIA4htT"
      },
      "execution_count": null,
      "outputs": []
    },
    {
      "cell_type": "code",
      "source": [
        "categories = '''\n",
        "primary = ['Billing', 'Technical Support', 'Account Management', 'General Inquiry']\n",
        "secondary = {'Biling': ['Unsubscribe or upgrade', 'Add a payment method', 'Explanation for charge', 'Dispute a charge'],\n",
        "             'Technical Support': ['Troubleshooting', 'Device compatibility', 'Software updates'],\n",
        "             'Account Management': ['Password reset', 'Update personal information', 'Close account', 'Account security'],\n",
        "             'General Inquiry': ['Product information', 'Pricing', 'Feedback', 'Speak to a human']}\n",
        "'''"
      ],
      "metadata": {
        "id": "inzprmzo4jdL"
      },
      "execution_count": null,
      "outputs": []
    },
    {
      "cell_type": "code",
      "source": [
        "configuration = types.GenerateContentConfig(system_instruction = instruction + categories)"
      ],
      "metadata": {
        "id": "IwH65n9c9jOF"
      },
      "execution_count": null,
      "outputs": []
    },
    {
      "cell_type": "code",
      "source": [
        "query = 'I need to get my internet working again'"
      ],
      "metadata": {
        "id": "III_vvI14nHC"
      },
      "execution_count": null,
      "outputs": []
    },
    {
      "cell_type": "code",
      "source": [
        "response = client.models.generate_content(\n",
        "    config = configuration,\n",
        "    contents = query,\n",
        "    model = model_name)\n",
        "print(response.text)"
      ],
      "metadata": {
        "id": "X7RL8zE_7sfu"
      },
      "execution_count": null,
      "outputs": []
    },
    {
      "cell_type": "code",
      "source": [
        "query = 'I forgot my password'"
      ],
      "metadata": {
        "id": "5R7_oAPI82Z6"
      },
      "execution_count": null,
      "outputs": []
    },
    {
      "cell_type": "code",
      "source": [
        "response = client.models.generate_content(\n",
        "    config = configuration,\n",
        "    contents = query,\n",
        "    model = model_name)\n",
        "print(response.text)"
      ],
      "metadata": {
        "id": "46lEurGp94mG"
      },
      "execution_count": null,
      "outputs": []
    },
    {
      "cell_type": "markdown",
      "source": [
        "## Polishing"
      ],
      "metadata": {
        "id": "EPy9hXxpCvi6"
      }
    },
    {
      "cell_type": "code",
      "source": [
        "configuration = types.GenerateContentConfig(\n",
        "    system_instruction = instruction + categories,\n",
        "    temperature = 0,\n",
        "    response_mime_type = 'application/json')"
      ],
      "metadata": {
        "id": "geFOjsVT97CM"
      },
      "execution_count": null,
      "outputs": []
    },
    {
      "cell_type": "code",
      "source": [
        "response = client.models.generate_content(\n",
        "    config = configuration,\n",
        "    contents = query,\n",
        "    model = model_name)\n",
        "print(response.text)"
      ],
      "metadata": {
        "id": "vWz5keeHCd1H"
      },
      "execution_count": null,
      "outputs": []
    }
  ]
}