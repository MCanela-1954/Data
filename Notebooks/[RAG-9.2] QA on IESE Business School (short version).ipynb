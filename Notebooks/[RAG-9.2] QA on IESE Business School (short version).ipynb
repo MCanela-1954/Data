{
  "nbformat": 4,
  "nbformat_minor": 0,
  "metadata": {
    "colab": {
      "provenance": [],
      "authorship_tag": "ABX9TyM9kS25oqnRB/0CmOj0DGyn",
      "include_colab_link": true
    },
    "kernelspec": {
      "name": "python3",
      "display_name": "Python 3"
    },
    "language_info": {
      "name": "python"
    }
  },
  "cells": [
    {
      "cell_type": "markdown",
      "metadata": {
        "id": "view-in-github",
        "colab_type": "text"
      },
      "source": [
        "<a href=\"https://colab.research.google.com/github/MCanela-1954/Data/blob/main/Notebooks/%5BRAG-9.2%5D%20QA%20on%20IESE%20Business%20School%20(short%20version).ipynb\" target=\"_parent\"><img src=\"https://colab.research.google.com/assets/colab-badge.svg\" alt=\"Open In Colab\"/></a>"
      ]
    },
    {
      "cell_type": "markdown",
      "source": [
        "# [RAG-9.2] Q/A on IESE Business School (short version)"
      ],
      "metadata": {
        "id": "1GG4xSNMEDf0"
      }
    },
    {
      "cell_type": "markdown",
      "source": [
        "## Setup"
      ],
      "metadata": {
        "id": "jF_pUVppHXsN"
      }
    },
    {
      "cell_type": "code",
      "source": [
        "from google import genai\n",
        "from google.genai.types import GenerateContentConfig, EmbedContentConfig\n",
        "import numpy as np, pandas as pd\n",
        "client = genai.Client(api_key = 'GOOGLE_API_KEY')"
      ],
      "metadata": {
        "id": "95LQdFC9Hh7E"
      },
      "execution_count": null,
      "outputs": []
    },
    {
      "cell_type": "markdown",
      "source": [
        "## Model selection"
      ],
      "metadata": {
        "id": "t2Bl28dnHndT"
      }
    },
    {
      "cell_type": "code",
      "source": [
        "chat_model = 'gemini-2.0-flash'\n",
        "embed_model = 'models/text-embedding-004'\n",
        "embed_config = EmbedContentConfig(task_type = 'SEMANTIC_SIMILARITY', output_dimensionality = 768)"
      ],
      "metadata": {
        "id": "4V9p0bAiHxVW"
      },
      "execution_count": null,
      "outputs": []
    },
    {
      "cell_type": "markdown",
      "source": [
        "## Importing the QA data"
      ],
      "metadata": {
        "id": "Sn9cfPf9Hz8U"
      }
    },
    {
      "cell_type": "code",
      "source": [
        "path = 'https://raw.githubusercontent.com/IAlegre-MCanela/Summer_Course/main/Session%209/'\n",
        "data = pd.read_json(path + 'faq.json')"
      ],
      "metadata": {
        "id": "aj1kgdNuH8x1"
      },
      "execution_count": null,
      "outputs": []
    },
    {
      "cell_type": "markdown",
      "source": [
        "## Importing the vector database"
      ],
      "metadata": {
        "id": "OouyMuV-IBDj"
      }
    },
    {
      "cell_type": "code",
      "source": [
        "embeds = pd.read_csv(path + 'embeds.csv', header = None)"
      ],
      "metadata": {
        "id": "X-bO4K_TIEZW"
      },
      "execution_count": null,
      "outputs": []
    },
    {
      "cell_type": "markdown",
      "source": [
        "## System guidelines #\n"
      ],
      "metadata": {
        "id": "5zVUVmuBJeic"
      }
    },
    {
      "cell_type": "code",
      "source": [
        "guidelines = '''\n",
        "You are a chatbot responding queries about MBA programs at IESE Business School.\n",
        "You will be shown the query.\n",
        "Make your response shorter than 50 words.\n",
        "Use only the information provided.\n",
        "If the information provided doesn't mention the subject of the query, limit your response to the following:\n",
        "<response>\n",
        "Unfortunately, I don't have information about this subject. Please, directly contact with the school.\n",
        "</response>\n",
        "'''"
      ],
      "metadata": {
        "id": "-c1apYuvJjCH"
      },
      "execution_count": null,
      "outputs": []
    },
    {
      "cell_type": "markdown",
      "source": [
        "## Chat function"
      ],
      "metadata": {
        "id": "CNgLmRXqIIMe"
      }
    },
    {
      "cell_type": "code",
      "source": [
        "def chat(query):\n",
        "\tresult = client.models.embed_content(config = embed_config, model = embed_model, contents = [query])\n",
        "\tquery_embed = result.embeddings[0].values\n",
        "\tquery_embed = np.array(query_embed)\n",
        "\tdata['similarity'] = np.dot(embeds, query_embed.T)\n",
        "\ttop5 = data.sort_values(by='similarity', ascending=False).head(5)\n",
        "\tinfo = 'Information:\\n' + top5['answer'].sum()\n",
        "\tchat_config = GenerateContentConfig(system_instruction = guidelines + info)\n",
        "\tresponse = client.models.generate_content(config = chat_config, contents = query, model = chat_model)\n",
        "\tprint(response.text)"
      ],
      "metadata": {
        "id": "i_vjMgyMIMAh"
      },
      "execution_count": null,
      "outputs": []
    },
    {
      "cell_type": "code",
      "source": [
        "chat('Do you control class attendance?')"
      ],
      "metadata": {
        "id": "qZOLJs0pI-UJ"
      },
      "execution_count": null,
      "outputs": []
    },
    {
      "cell_type": "code",
      "source": [
        "chat('Are there elective courses in the Executive MBA?')"
      ],
      "metadata": {
        "id": "kEsie0sRJD_C"
      },
      "execution_count": null,
      "outputs": []
    }
  ]
}