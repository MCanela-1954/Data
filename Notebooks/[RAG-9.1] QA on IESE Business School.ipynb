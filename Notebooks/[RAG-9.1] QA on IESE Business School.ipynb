{
  "nbformat": 4,
  "nbformat_minor": 0,
  "metadata": {
    "colab": {
      "provenance": [],
      "authorship_tag": "ABX9TyPxkCtaGp3Pcrch7rz3ugKL",
      "include_colab_link": true
    },
    "kernelspec": {
      "name": "python3",
      "display_name": "Python 3"
    },
    "language_info": {
      "name": "python"
    }
  },
  "cells": [
    {
      "cell_type": "markdown",
      "metadata": {
        "id": "view-in-github",
        "colab_type": "text"
      },
      "source": [
        "<a href=\"https://colab.research.google.com/github/MCanela-1954/Data/blob/main/Notebooks/%5BRAG-9.1%5D%20QA%20on%20IESE%20Business%20School.ipynb\" target=\"_parent\"><img src=\"https://colab.research.google.com/assets/colab-badge.svg\" alt=\"Open In Colab\"/></a>"
      ]
    },
    {
      "cell_type": "markdown",
      "source": [
        "# [RAG-9.1] Q/A on IESE Business School"
      ],
      "metadata": {
        "id": "kZjxREEd8E22"
      }
    },
    {
      "cell_type": "markdown",
      "source": [
        "## Setup"
      ],
      "metadata": {
        "id": "ZGnOikDL8R8g"
      }
    },
    {
      "cell_type": "code",
      "source": [
        "from google import genai\n",
        "from google.genai.types import GenerateContentConfig, EmbedContentConfig\n",
        "import numpy as np, pandas as pd"
      ],
      "metadata": {
        "id": "h1FF-AvY8hAO"
      },
      "execution_count": null,
      "outputs": []
    },
    {
      "cell_type": "code",
      "source": [
        "client = genai.Client(api_key = 'GOOGLE_API_KEY')"
      ],
      "metadata": {
        "id": "YEd0MVDL8k-n"
      },
      "execution_count": null,
      "outputs": []
    },
    {
      "cell_type": "markdown",
      "source": [
        "## Model selection"
      ],
      "metadata": {
        "id": "46dV_JCz8p4h"
      }
    },
    {
      "cell_type": "code",
      "source": [
        "chat_model = 'gemini-2.0-flash'"
      ],
      "metadata": {
        "id": "yhaaT_Y88yDx"
      },
      "execution_count": null,
      "outputs": []
    },
    {
      "cell_type": "code",
      "source": [
        "embed_model = 'models/text-embedding-004'"
      ],
      "metadata": {
        "id": "1MMbcOu381h6"
      },
      "execution_count": null,
      "outputs": []
    },
    {
      "cell_type": "code",
      "source": [
        "embed_config = EmbedContentConfig(task_type = 'SEMANTIC_SIMILARITY', output_dimensionality = 768)"
      ],
      "metadata": {
        "id": "sS-vMn3q89i-"
      },
      "execution_count": null,
      "outputs": []
    },
    {
      "cell_type": "markdown",
      "source": [
        "## Importing the QA data"
      ],
      "metadata": {
        "id": "TgRmZ_li9DnF"
      }
    },
    {
      "cell_type": "code",
      "source": [
        "path = 'https://raw.githubusercontent.com/IAlegre-MCanela/Summer_Course/main/Session%209/'"
      ],
      "metadata": {
        "id": "OOTQnGZE9Izj"
      },
      "execution_count": null,
      "outputs": []
    },
    {
      "cell_type": "code",
      "source": [
        "data = pd.read_json(path + 'faq.json')\n",
        "data.info()"
      ],
      "metadata": {
        "id": "L6mcSRjd9cXe"
      },
      "execution_count": null,
      "outputs": []
    },
    {
      "cell_type": "markdown",
      "source": [
        "## Importing the vector database"
      ],
      "metadata": {
        "id": "VS499Hl59gqq"
      }
    },
    {
      "cell_type": "code",
      "source": [
        "embeds = pd.read_csv(path + 'embeds.csv', header = None)"
      ],
      "metadata": {
        "id": "y0y_WOES9ogg"
      },
      "execution_count": null,
      "outputs": []
    },
    {
      "cell_type": "markdown",
      "source": [
        "## Encoding the query"
      ],
      "metadata": {
        "id": "MRMoR4G_9qz0"
      }
    },
    {
      "cell_type": "code",
      "source": [
        "query = 'Are the EMBA courses taught in Spanish?'"
      ],
      "metadata": {
        "id": "z4bJGfYN9yLw"
      },
      "execution_count": null,
      "outputs": []
    },
    {
      "cell_type": "code",
      "source": [
        "result = client.models.embed_content(config = embed_config, model = embed_model, contents = [query])"
      ],
      "metadata": {
        "id": "1KM-GhYL908e"
      },
      "execution_count": null,
      "outputs": []
    },
    {
      "cell_type": "code",
      "source": [
        "query_embed = result.embeddings[0].values\n",
        "query_embed = np.array(query_embed)\n",
        "query_embed.shape"
      ],
      "metadata": {
        "id": "naSlJvQs95jS"
      },
      "execution_count": null,
      "outputs": []
    },
    {
      "cell_type": "markdown",
      "source": [
        "## Searching for the closest questions"
      ],
      "metadata": {
        "id": "slt4DMYN98VN"
      }
    },
    {
      "cell_type": "code",
      "source": [
        "data['similarity'] = np.dot(embeds, query_embed.T)\n",
        "print(data.head())"
      ],
      "metadata": {
        "id": "bBUsvEy8-MoW"
      },
      "execution_count": null,
      "outputs": []
    },
    {
      "cell_type": "code",
      "source": [
        "top3 = data.sort_values(by='similarity', ascending=False).head(3)\n",
        "print(top3)"
      ],
      "metadata": {
        "id": "yQOdVRt8_OGv"
      },
      "execution_count": null,
      "outputs": []
    },
    {
      "cell_type": "markdown",
      "source": [
        "## System guidelines"
      ],
      "metadata": {
        "id": "mpayi2xD_j7d"
      }
    },
    {
      "cell_type": "code",
      "source": [
        "guidelines = '''\n",
        "You are a chatbot responding queries about MBA programs at IESE Business School.\n",
        "You will be shown the query.\n",
        "Make your response shorter than 50 words.\n",
        "Use only the information provided.\n",
        "If the information provided doesn't mention the subject of the query, limit your response to the following:\n",
        "<response>\n",
        "Unfortunately, I don't have information about this subject. Please, directly contact with the school.\n",
        "</response>\n",
        "'''"
      ],
      "metadata": {
        "id": "0_TZRje9AbDJ"
      },
      "execution_count": null,
      "outputs": []
    },
    {
      "cell_type": "markdown",
      "source": [
        "## Submitting the query"
      ],
      "metadata": {
        "id": "FzHgGtfYCeNZ"
      }
    },
    {
      "cell_type": "code",
      "source": [
        "info = 'Information:\\n' + top3['answer'].sum()\n",
        "print(info)"
      ],
      "metadata": {
        "id": "AjrhqnkiAvm0"
      },
      "execution_count": null,
      "outputs": []
    },
    {
      "cell_type": "code",
      "source": [
        "chat_config = GenerateContentConfig(system_instruction = guidelines + info)"
      ],
      "metadata": {
        "id": "4t2phPtWA7qm"
      },
      "execution_count": null,
      "outputs": []
    },
    {
      "cell_type": "code",
      "source": [
        "response = client.models.generate_content(config = chat_config, contents = query, model = chat_model)\n",
        "print(response.text)"
      ],
      "metadata": {
        "id": "AMlZFpWDBNkA"
      },
      "execution_count": null,
      "outputs": []
    }
  ]
}