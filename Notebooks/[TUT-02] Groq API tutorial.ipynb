{
  "nbformat": 4,
  "nbformat_minor": 0,
  "metadata": {
    "colab": {
      "provenance": [],
      "authorship_tag": "ABX9TyNhmGqUN+yb1c0Q1oYAGQTx",
      "include_colab_link": true
    },
    "kernelspec": {
      "name": "python3",
      "display_name": "Python 3"
    },
    "language_info": {
      "name": "python"
    }
  },
  "cells": [
    {
      "cell_type": "markdown",
      "metadata": {
        "id": "view-in-github",
        "colab_type": "text"
      },
      "source": [
        "<a href=\"https://colab.research.google.com/github/MCanela-1954/Data/blob/main/Notebooks/%5BTUT-02%5D%20Groq%20API%20tutorial.ipynb\" target=\"_parent\"><img src=\"https://colab.research.google.com/assets/colab-badge.svg\" alt=\"Open In Colab\"/></a>"
      ]
    },
    {
      "cell_type": "markdown",
      "source": [
        "# [TUT-02] Groq API tutorial"
      ],
      "metadata": {
        "id": "YEQ2M7VtEuFQ"
      }
    },
    {
      "cell_type": "markdown",
      "source": [
        "## Setup"
      ],
      "metadata": {
        "id": "X-dNcUMcE7mO"
      }
    },
    {
      "cell_type": "code",
      "source": [
        "from openai import OpenAI"
      ],
      "metadata": {
        "id": "xgEV6O710wUy"
      },
      "execution_count": null,
      "outputs": []
    },
    {
      "cell_type": "code",
      "source": [
        "client = OpenAI(base_url = 'https://api.groq.com/openai/v1', api_key = GROQ_API_KEY)"
      ],
      "metadata": {
        "id": "s0aLVjLSIDxZ"
      },
      "execution_count": null,
      "outputs": []
    },
    {
      "cell_type": "code",
      "source": [
        "model1 = 'DeepSeek-R1-Distill-Llama-70b'\n",
        "model2 = 'meta-llama/llama-4-maverick-17b-128e-instruct'"
      ],
      "metadata": {
        "id": "w9T4ezpyIzwk"
      },
      "execution_count": null,
      "outputs": []
    },
    {
      "cell_type": "markdown",
      "source": [
        "## First example"
      ],
      "metadata": {
        "id": "vR8acTBeUNhK"
      }
    },
    {
      "cell_type": "code",
      "source": [
        "instruction = '''\n",
        "You will be provided with customer service queries.\n",
        "Classify each query into a primary category and a secondary category.\n",
        "Provide your output in JSON format with the keys: \"primary\" and \"secondary\".\n",
        "'''"
      ],
      "metadata": {
        "id": "tCiMp4Pl_NFo"
      },
      "execution_count": null,
      "outputs": []
    },
    {
      "cell_type": "code",
      "source": [
        "categories = '''\n",
        "primary = ['Billing', 'Technical Support', 'Account Management', 'General Inquiry']\n",
        "secondary = {'Biling': ['Unsubscribe or upgrade', 'Add a payment method', 'Explanation for charge', 'Dispute a charge'],\n",
        "             'Technical Support': ['Troubleshooting', 'Device compatibility', 'Software updates'],\n",
        "             'Account Management': ['Password reset', 'Update personal information', 'Close account', 'Account security'],\n",
        "             'General Inquiry': ['Product information', 'Pricing', 'Feedback', 'Speak to a human']}\n",
        "'''"
      ],
      "metadata": {
        "id": "hvtMCssqf4Wh"
      },
      "execution_count": null,
      "outputs": []
    },
    {
      "cell_type": "code",
      "source": [
        "query = 'I need to get my internet working again'"
      ],
      "metadata": {
        "id": "K_XaFTXmIYTz"
      },
      "execution_count": null,
      "outputs": []
    },
    {
      "cell_type": "code",
      "source": [
        "response = client.chat.completions.create(model = model1,\n",
        "  messages = [{'role': 'system', 'content': instruction + categories}, {'role': 'user', 'content': query}])"
      ],
      "metadata": {
        "id": "e15fDh8PIfFR"
      },
      "execution_count": null,
      "outputs": []
    },
    {
      "cell_type": "code",
      "source": [
        "print(response.choices[0].message.content)"
      ],
      "metadata": {
        "id": "AirFbD-iJNdx"
      },
      "execution_count": null,
      "outputs": []
    },
    {
      "cell_type": "code",
      "source": [
        "model2 = 'meta-llama/llama-4-maverick-17b-128e-instruct'\n",
        "response = client.chat.completions.create( model=model2,\n",
        "    messages=[{'role': 'system', 'content': instruction + categories}, {'role': 'user', 'content': query}])\n",
        "print(response.choices[0].message.content)"
      ],
      "metadata": {
        "id": "Y0FIPSKt1hLt"
      },
      "execution_count": null,
      "outputs": []
    },
    {
      "cell_type": "markdown",
      "source": [
        "## Controlling the output"
      ],
      "metadata": {
        "id": "k_EkNvSY4azF"
      }
    },
    {
      "cell_type": "code",
      "source": [
        "response = client.chat.completions.create(model = model1, response_format = {'type': 'json_object'}, reasoning_format = 'hidden'\n",
        "  messages = [{'role': 'system', 'content': instruction + categories}, {'role': 'user', 'content': query}])\n",
        "print(response.choices[0].message.content)"
      ],
      "metadata": {
        "id": "YmyX9M6tJ7R5"
      },
      "execution_count": null,
      "outputs": []
    },
    {
      "cell_type": "markdown",
      "source": [
        "## Second example"
      ],
      "metadata": {
        "id": "dF_XqPEFZB2J"
      }
    },
    {
      "cell_type": "code",
      "source": [
        "instruction = '''\n",
        "You are a restaurant manager taking care of analyzing and responding the reviews posted by customers on the Yelp's website.\n",
        "The queries are presented to you as JSON objects with three keys: \"author\", \"rating\" and \"review\".\n",
        "You are expected to create a new JSON object containing the \"author\" key and four additional keys:\n",
        "- \"price\": The value for this key must be a summary, of no more than 10 words, of what is said in the review about the value-for-money of a lunch or a dinner in this restaurant. If nothing is said in the review about that, the value must be null.\n",
        "- \"service\": The value for this key must be a summary, of no more than 10 words, of what is said in the review about the reception, waiters, accomodation and other service aspects in this restaurant. If nothing is said in the review about that, the value must be null.\n",
        "- \"atmosphere\": The value for this key must be a summary, of no more than 10 words, of what is said in the review about how friendly is this restaurant or how comfortable the customers feel themselves. If nothing is said in the review about theat, the value must be null.\n",
        "- \"food\": The value for this key must be a summary, of no more than 10 words, of what is said in the review about how the food in general or about specific dishes. If nothing is said in the review about theat, the value must be null.\n",
        "'''"
      ],
      "metadata": {
        "id": "XB-hxUDRYk66"
      },
      "execution_count": null,
      "outputs": []
    },
    {
      "cell_type": "code",
      "source": [
        "review = '''\n",
        "{\n",
        "\t\"author\": \"Aldo P.\",\n",
        "\t\"rating\": 5,\n",
        "\t\"review\": \"Boqueria Soho has such a great vibe, perfect for a night out with friends. The service was impressive: we were in a rush and let them know, and they went above and beyond to accommodate us. We opted for the tasting menu with Iberico ham, which was USD 65, and honestly, it was one of the best value-for-money meals I've had in NYC. The Vieux Carré cocktail I ordered was perfectly balanced, especially for anyone who's into bourbon.\n",
        "\tHighly recommend this spot; we left happy, full, and totally satisfied with the food, service, and atmosphere.\"\n",
        "}\n",
        "'''"
      ],
      "metadata": {
        "id": "-Ce7fGqZoJ-g"
      },
      "execution_count": null,
      "outputs": []
    },
    {
      "cell_type": "code",
      "source": [
        "response = client.chat.completions.create(model = model1,\n",
        "    messages=[{'role': 'system', 'content': instruction}, {'role': 'user', 'content': review}])\n",
        "print(response.choices[0].message.content)"
      ],
      "metadata": {
        "id": "XWQZGpH9oarL"
      },
      "execution_count": null,
      "outputs": []
    },
    {
      "cell_type": "code",
      "source": [
        "response = client.chat.completions.create(model = model2,\n",
        "    messages=[{'role': 'system', 'content': instruction}, {'role': 'user', 'content': review}])\n",
        "print(response.choices[0].message.content)"
      ],
      "metadata": {
        "id": "vsJzI9vZX6qY"
      },
      "execution_count": null,
      "outputs": []
    },
    {
      "cell_type": "code",
      "source": [
        "review = '''\n",
        "{\n",
        "\t\"author\": \"Anna H.\",\n",
        "\t\"rating\": 4,\n",
        "\t\"review\": \"Boqueria is located in the heart of Soho and conveniently within walking distance from the Spring St subway station. After window shopping, my family and I decided to try Boqueria. The hostess asked for my number and entered it into their system before seating us at a booth table. The ambiance was perfect for our lunch date. I informed our server about my food allergies.\n",
        "\tTapas *sharing is caring*\n",
        "\tBoquerones con Naranja\n",
        "\tTortilla Española\n",
        "\tMejillones con Azafrán: The steamed mussels were flavorful. Sadly, I ate all the bread and wished for more to dip into the delicious sherry and saffron sauce.\n",
        "\tHalf Pollo Rustido: The Catalan-style roasted chicken was finger-licking goodness.\n",
        "\tBookmark this spot to try!\"\n",
        "}\n",
        "'''"
      ],
      "metadata": {
        "id": "VzLAyo-VZw98"
      },
      "execution_count": null,
      "outputs": []
    },
    {
      "cell_type": "code",
      "source": [
        "response = client.chat.completions.create(model = model1, response_format = {'type': 'json_object'}, reasoning_format = 'hidden',\n",
        "  messages = [{'role': 'system', 'content': instruction}, {'role': 'user', 'content': review}])\n",
        "print(response.choices[0].message.content)"
      ],
      "metadata": {
        "id": "oOnSn2Rs_9dW"
      },
      "execution_count": null,
      "outputs": []
    },
    {
      "cell_type": "code",
      "source": [
        "response = client.chat.completions.create(model = model2, response_format = {'type': 'json_object'},\n",
        "  messages = [{'role': 'system', 'content': instruction}, {'role': 'user', 'content': review}])\n",
        "print(response.choices[0].message.content)"
      ],
      "metadata": {
        "id": "d8wbUDpfaxqj"
      },
      "execution_count": null,
      "outputs": []
    },
    {
      "cell_type": "code",
      "source": [
        "review = '''\n",
        "{\n",
        "\t\"author\": \"Sy Y.\",\n",
        "\t\"rating\": 3,\n",
        "\t\"review\": \"Stopped in to Boqueria Soho location on Spring street for Happy Hour. Happy hour seems to get quite full here. This was not the first visit we did a 'walk in' but, this was the first time we were asked if we had an appointment for happy hour. Either way, we sat down with 'limited time' (walked in around 4:05PM and the hostess told us that we can have the table until no later than 5:15PM). We rushed to order, received the food and had to get out of there with no time to breathe (with a little exaggeration =/). Food, Lamb skewers were nicely cooked with good flavors. Mushroom croquet had a crispy exterior and soft inside. Mini sliders were delicious. Chorizo was pretty standard. The noodle paella with squid ink was a good concept and interesting. I did enjoy the flavor but the broken noodles under the squid was quite soggy. We really tried to like the dish but, hopefully, next time. If opportunity arises, I will try this place again.\"\n",
        "}\n",
        "'''"
      ],
      "metadata": {
        "id": "7Sn2dhy-aE2Q"
      },
      "execution_count": null,
      "outputs": []
    },
    {
      "cell_type": "code",
      "source": [
        "response = client.chat.completions.create(model = model1, response_format = {'type': 'json_object'}, reasoning_format = 'hidden',\n",
        "  messages = [{'role': 'system', 'content': instruction}, {'role': 'user', 'content': review}])\n",
        "print(response.choices[0].message.content)"
      ],
      "metadata": {
        "id": "jOhktu8Gbl_O"
      },
      "execution_count": null,
      "outputs": []
    },
    {
      "cell_type": "code",
      "source": [
        "response = client.chat.completions.create(model = model2, response_format = {'type': 'json_object'},\n",
        "  messages = [{'role': 'system', 'content': instruction}, {'role': 'user', 'content': review}])\n",
        "print(response.choices[0].message.content)"
      ],
      "metadata": {
        "id": "U40VJeHfApoS"
      },
      "execution_count": null,
      "outputs": []
    }
  ]
}