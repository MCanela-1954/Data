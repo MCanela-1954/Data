{
  "nbformat": 4,
  "nbformat_minor": 0,
  "metadata": {
    "colab": {
      "provenance": [],
      "authorship_tag": "ABX9TyNGW4++e+49628eFKwbAEp8",
      "include_colab_link": true
    },
    "kernelspec": {
      "name": "python3",
      "display_name": "Python 3"
    },
    "language_info": {
      "name": "python"
    }
  },
  "cells": [
    {
      "cell_type": "markdown",
      "metadata": {
        "id": "view-in-github",
        "colab_type": "text"
      },
      "source": [
        "<a href=\"https://colab.research.google.com/github/MCanela-1954/Data/blob/main/%5BRAG_9%5D_QA_on_the_IESE_EMBA_Program.ipynb\" target=\"_parent\"><img src=\"https://colab.research.google.com/assets/colab-badge.svg\" alt=\"Open In Colab\"/></a>"
      ]
    },
    {
      "cell_type": "markdown",
      "source": [
        "# [RAG-9] Q/A on the IESE EMBA Program"
      ],
      "metadata": {
        "id": "RFjI2aPHGB9T"
      }
    },
    {
      "cell_type": "markdown",
      "source": [
        "## Setup"
      ],
      "metadata": {
        "id": "uhnXhS-bGKoP"
      }
    },
    {
      "cell_type": "code",
      "source": [
        "!pip install lmstudio"
      ],
      "metadata": {
        "id": "bODkrf_8GOvV"
      },
      "execution_count": null,
      "outputs": []
    },
    {
      "cell_type": "code",
      "source": [
        "!pip install openai"
      ],
      "metadata": {
        "id": "m4YXtJcjKjzo"
      },
      "execution_count": null,
      "outputs": []
    },
    {
      "cell_type": "code",
      "source": [
        "import lmstudio as lms, numpy as np, pandas as pd\n",
        "from openai import OpenAI"
      ],
      "metadata": {
        "id": "-DhVySqKGS8g"
      },
      "execution_count": null,
      "outputs": []
    },
    {
      "cell_type": "markdown",
      "source": [
        "## Model selection"
      ],
      "metadata": {
        "id": "F3weY2cjKVWv"
      }
    },
    {
      "cell_type": "code",
      "source": [
        "embed_model = 'text-embedding-granite-embedding-278m-multilingual'"
      ],
      "metadata": {
        "id": "RYoTkPjJJXIv"
      },
      "execution_count": null,
      "outputs": []
    },
    {
      "cell_type": "code",
      "source": [
        "chat_model = 'ibm-granite/granite-3.3-8b-instruct-GGUF'\n",
        "# chat_model = 'qwen3-14b'\n",
        "# chat_model = 'mistral-small-3.1-24b-instruct-2503'\n",
        "# chat_model = 'gemma-3-12b-it'"
      ],
      "metadata": {
        "id": "UbGkZdEBJaI9"
      },
      "execution_count": null,
      "outputs": []
    },
    {
      "cell_type": "markdown",
      "source": [
        "## LM Studio client"
      ],
      "metadata": {
        "id": "aIt4_aUsKcp8"
      }
    },
    {
      "cell_type": "code",
      "source": [
        "client = OpenAI(base_url = 'http://localhost:1234/v1', api_key = 'lm-studio')"
      ],
      "metadata": {
        "id": "qPK8iYwsKwNy"
      },
      "execution_count": null,
      "outputs": []
    },
    {
      "cell_type": "code",
      "source": [
        "df = pd.read_json('https://raw.githubusercontent.com/IAlegre-MCanela/Summer_Course/main/Session%209/faq.json')"
      ],
      "metadata": {
        "id": "L_jrj5nRKzZs"
      },
      "execution_count": null,
      "outputs": []
    },
    {
      "cell_type": "code",
      "source": [
        "questions = df['question'].tolist()"
      ],
      "metadata": {
        "id": "qR3HF3iYK2D4"
      },
      "execution_count": null,
      "outputs": []
    },
    {
      "cell_type": "code",
      "source": [
        "N = len(df)\n",
        "N"
      ],
      "metadata": {
        "id": "YUK1itsBK4zZ"
      },
      "execution_count": null,
      "outputs": []
    },
    {
      "cell_type": "code",
      "source": [
        "response = client.embeddings.create(model = embed_model, input = questions)"
      ],
      "metadata": {
        "id": "lpxwKiuVK7IU"
      },
      "execution_count": null,
      "outputs": []
    },
    {
      "cell_type": "code",
      "source": [
        "embeds = [response.data[i].embedding for i in range(N)]\n",
        "embeds = np.array(embeds)\n",
        "embeds.shape"
      ],
      "metadata": {
        "id": "0rJ6f2yCK-Wx"
      },
      "execution_count": null,
      "outputs": []
    },
    {
      "cell_type": "markdown",
      "source": [
        "## Encoding the query"
      ],
      "metadata": {
        "id": "QmRxDyd3LDJy"
      }
    },
    {
      "cell_type": "code",
      "source": [
        "query = 'Are courses taught in Spanish?'"
      ],
      "metadata": {
        "id": "fgHxbQ8XLGUU"
      },
      "execution_count": null,
      "outputs": []
    },
    {
      "cell_type": "code",
      "source": [
        "response = client.embeddings.create(model = embed_model, input = [query])"
      ],
      "metadata": {
        "id": "kWwYN3ntLIng"
      },
      "execution_count": null,
      "outputs": []
    },
    {
      "cell_type": "code",
      "source": [
        "query_embed = response.data[0].embedding\n",
        "query_embed = np.array(query_embed)\n",
        "query_embed.shape"
      ],
      "metadata": {
        "id": "maL6SwNtLLMi"
      },
      "execution_count": null,
      "outputs": []
    },
    {
      "cell_type": "markdown",
      "source": [
        "## Search for the closest questions"
      ],
      "metadata": {
        "id": "Nyaog-eALPZr"
      }
    },
    {
      "cell_type": "code",
      "source": [
        "df['similarity'] = np.dot(embeds, query_embed.T)\n",
        "df.head()"
      ],
      "metadata": {
        "id": "0Y_ykFThLUMc"
      },
      "execution_count": null,
      "outputs": []
    },
    {
      "cell_type": "code",
      "source": [
        "top5 = df.sort_values(by='similarity', ascending=False).head(5)\n",
        "top5"
      ],
      "metadata": {
        "id": "qPcqJakgLX30"
      },
      "execution_count": null,
      "outputs": []
    },
    {
      "cell_type": "markdown",
      "source": [
        "## System instructions"
      ],
      "metadata": {
        "id": "jXQogfYKLa0W"
      }
    },
    {
      "cell_type": "code",
      "source": [
        "instruction = '''\n",
        "You are a chatbot providing an answer to a user question about MBA programs at IESE Business School.\n",
        "You will be shown the user question.\n",
        "Make your answer shorter than 50 words.\n",
        "Use only the information provided.\n",
        "If the information provided doesn't mention the subject of the query, limit your response to the following:\n",
        "<response>\n",
        "Unfortunately, I don't have information about this subject. Please, directly contact with the school.\n",
        "</response>\n",
        "'''"
      ],
      "metadata": {
        "id": "koWQQdpyLeMN"
      },
      "execution_count": null,
      "outputs": []
    },
    {
      "cell_type": "code",
      "source": [
        "info = 'Information:\\n' + top5['answer'].sum()\n",
        "print(info)"
      ],
      "metadata": {
        "id": "av6mkIwDLhDC"
      },
      "execution_count": null,
      "outputs": []
    },
    {
      "cell_type": "markdown",
      "source": [
        "## Submitting the query (with potential reasoning)"
      ],
      "metadata": {
        "id": "KVlExA49LioP"
      }
    },
    {
      "cell_type": "code",
      "source": [
        "query_response = client.chat.completions.create(\n",
        "    messages = [{'role': 'system', 'content': instruction + info}, {'role': 'user', 'content': query}],\n",
        "    model = chat_model)\n",
        "print(query_response.choices[0].message.content)"
      ],
      "metadata": {
        "id": "HeiEkAHnLq5p"
      },
      "execution_count": null,
      "outputs": []
    }
  ]
}