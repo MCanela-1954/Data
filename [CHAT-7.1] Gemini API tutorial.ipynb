{
  "nbformat": 4,
  "nbformat_minor": 0,
  "metadata": {
    "colab": {
      "provenance": [],
      "include_colab_link": true
    },
    "kernelspec": {
      "name": "python3",
      "display_name": "Python 3"
    },
    "language_info": {
      "name": "python"
    }
  },
  "cells": [
    {
      "cell_type": "markdown",
      "metadata": {
        "id": "view-in-github",
        "colab_type": "text"
      },
      "source": [
        "<a href=\"https://colab.research.google.com/github/MCanela-1954/Data/blob/main/%5BCHAT-7.1%5D%20Gemini%20API%20tutorial.ipynb\" target=\"_parent\"><img src=\"https://colab.research.google.com/assets/colab-badge.svg\" alt=\"Open In Colab\"/></a>"
      ]
    },
    {
      "cell_type": "markdown",
      "source": [
        "# [CHAT-7.1] Gemini API tutorial"
      ],
      "metadata": {
        "id": "YEQ2M7VtEuFQ"
      }
    },
    {
      "cell_type": "markdown",
      "source": [
        "## Setup"
      ],
      "metadata": {
        "id": "X-dNcUMcE7mO"
      }
    },
    {
      "cell_type": "code",
      "source": [
        "from google import genai"
      ],
      "metadata": {
        "id": "wYsZ9X50ExAK"
      },
      "execution_count": null,
      "outputs": []
    },
    {
      "cell_type": "code",
      "source": [
        "client = genai.Client(api_key = 'GOOGLE_API_KEY')"
      ],
      "metadata": {
        "id": "h9z_Qkpmyu7T"
      },
      "execution_count": null,
      "outputs": []
    },
    {
      "cell_type": "code",
      "source": [
        "model_name = 'gemini-2.5-flash'"
      ],
      "metadata": {
        "id": "eoTVedjX54Ob"
      },
      "execution_count": null,
      "outputs": []
    },
    {
      "cell_type": "markdown",
      "source": [
        "## Hallucination"
      ],
      "metadata": {
        "id": "vR8acTBeUNhK"
      }
    },
    {
      "cell_type": "code",
      "source": [
        "query1 = 'Who is Miguel Ángel Canela?'\n",
        "resp1 = client.models.generate_content(contents = query1, model = model_name)"
      ],
      "metadata": {
        "id": "tCiMp4Pl_NFo"
      },
      "execution_count": null,
      "outputs": []
    },
    {
      "cell_type": "code",
      "source": [
        "print(resp1.text)"
      ],
      "metadata": {
        "id": "GiUzihcYF6TV",
        "collapsed": true
      },
      "execution_count": null,
      "outputs": []
    },
    {
      "cell_type": "markdown",
      "source": [
        "## System instruction"
      ],
      "metadata": {
        "id": "iW3IuZoOWCqK"
      }
    },
    {
      "cell_type": "code",
      "source": [
        "from google.genai.types import GenerateContentConfig"
      ],
      "metadata": {
        "id": "xbtObzi29UxB"
      },
      "execution_count": null,
      "outputs": []
    },
    {
      "cell_type": "code",
      "source": [
        "instruction = '''\n",
        "You will be provided with customer service queries.\n",
        "Classify each query into a primary category and a secondary category.\n",
        "Provide your output in JSON format with the keys: \"primary\" and \"secondary\".\n",
        "'''"
      ],
      "metadata": {
        "id": "jWZVArIA4htT"
      },
      "execution_count": null,
      "outputs": []
    },
    {
      "cell_type": "code",
      "source": [
        "categories = '''\n",
        "primary = ['Billing', 'Technical Support', 'Account Management', 'General Inquiry']\n",
        "secondary = {'Biling': ['Unsubscribe or upgrade', 'Add a payment method', 'Explanation for charge', 'Dispute a charge'],\n",
        "             'Technical Support': ['Troubleshooting', 'Device compatibility', 'Software updates'],\n",
        "             'Account Management': ['Password reset', 'Update personal information', 'Close account', 'Account security'],\n",
        "             'General Inquiry': ['Product information', 'Pricing', 'Feedback', 'Speak to a human']}\n",
        "'''"
      ],
      "metadata": {
        "id": "inzprmzo4jdL"
      },
      "execution_count": null,
      "outputs": []
    },
    {
      "cell_type": "code",
      "source": [
        "config1 = GenerateContentConfig(system_instruction = instruction + categories)"
      ],
      "metadata": {
        "id": "IwH65n9c9jOF"
      },
      "execution_count": null,
      "outputs": []
    },
    {
      "cell_type": "code",
      "source": [
        "query2 = 'I need to get my internet working again'"
      ],
      "metadata": {
        "id": "III_vvI14nHC"
      },
      "execution_count": null,
      "outputs": []
    },
    {
      "cell_type": "code",
      "source": [
        "resp2 = client.models.generate_content(config = config1, contents = query2, model = model_name)\n",
        "print(resp2.text)"
      ],
      "metadata": {
        "id": "X7RL8zE_7sfu"
      },
      "execution_count": null,
      "outputs": []
    },
    {
      "cell_type": "markdown",
      "source": [
        "## Structured output"
      ],
      "metadata": {
        "id": "EPy9hXxpCvi6"
      }
    },
    {
      "cell_type": "code",
      "source": [
        "config2 = GenerateContentConfig(system_instruction = instruction + categories, response_mime_type = 'application/json')"
      ],
      "metadata": {
        "id": "geFOjsVT97CM"
      },
      "execution_count": null,
      "outputs": []
    },
    {
      "cell_type": "code",
      "source": [
        "resp3 = client.models.generate_content(config = config2, contents = query2, model = model_name)\n",
        "print(resp3.text)"
      ],
      "metadata": {
        "id": "vWz5keeHCd1H"
      },
      "execution_count": null,
      "outputs": []
    },
    {
      "cell_type": "markdown",
      "source": [
        "## Grounding with Google Search"
      ],
      "metadata": {
        "id": "cRoC-gAwS0dM"
      }
    },
    {
      "cell_type": "code",
      "source": [
        "from google.genai.types import Tool, GoogleSearch\n",
        "google_search_tool = Tool(google_search = GoogleSearch())"
      ],
      "metadata": {
        "id": "RtevM5X-S4Ls"
      },
      "execution_count": null,
      "outputs": []
    },
    {
      "cell_type": "code",
      "source": [
        "config3 = GenerateContentConfig(tools=[google_search_tool])"
      ],
      "metadata": {
        "id": "G3xJ6_vpS8SD"
      },
      "execution_count": null,
      "outputs": []
    },
    {
      "cell_type": "code",
      "source": [
        "resp4 = client.models.generate_content(config = config3, contents = query1, model = model_name)\n",
        "print(resp4.text)"
      ],
      "metadata": {
        "id": "tAcq5XH1TBKn"
      },
      "execution_count": null,
      "outputs": []
    }
  ]
}