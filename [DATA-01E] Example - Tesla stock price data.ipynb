{
  "nbformat": 4,
  "nbformat_minor": 0,
  "metadata": {
    "colab": {
      "provenance": [],
      "authorship_tag": "ABX9TyNcrx46aNyyyuc+EbgDpH8f",
      "include_colab_link": true
    },
    "kernelspec": {
      "name": "python3",
      "display_name": "Python 3"
    },
    "language_info": {
      "name": "python"
    }
  },
  "cells": [
    {
      "cell_type": "markdown",
      "metadata": {
        "id": "view-in-github",
        "colab_type": "text"
      },
      "source": [
        "<a href=\"https://colab.research.google.com/github/MCanela-1954/Data/blob/main/%5BDATA-01E%5D%20Example%20-%20Tesla%20stock%20price%20data.ipynb\" target=\"_parent\"><img src=\"https://colab.research.google.com/assets/colab-badge.svg\" alt=\"Open In Colab\"/></a>"
      ]
    },
    {
      "cell_type": "markdown",
      "source": [
        "# [DATA-01E] Example - Tesla stock price data"
      ],
      "metadata": {
        "id": "n8M_vtScJbD9"
      }
    },
    {
      "cell_type": "markdown",
      "source": [
        "## Introduction"
      ],
      "metadata": {
        "id": "_-PBAGsKK24H"
      }
    },
    {
      "cell_type": "markdown",
      "source": [
        "This example shows how to carry out an exploratory statistical analysis with the Pandas toolkit. It uses data on the Tesla Inc. (TSLA) stock prices in the Nasdaq stock market, for the years 2021-24, as published by Yahoo Finance (1,005 trading days).\n"
      ],
      "metadata": {
        "id": "4PYJJ6zdLDBt"
      }
    },
    {
      "cell_type": "markdown",
      "source": [
        "## The data set"
      ],
      "metadata": {
        "id": "DZO5b5BkLJiF"
      }
    },
    {
      "cell_type": "markdown",
      "source": [
        "The data source is the file `tesla.csv`. The data come in the typical OHLC format (Open/High/Low/Close). The columns are:\n",
        "\n",
        "* `date`, the date, as 'yyyy-mm-dd'.\n",
        "\n",
        "* `open`, the price (US dollars) of the stock at the beginning of the trading day. It can be different from the closing price of the previous trading day.\n",
        "\n",
        "* `high`, the highest price (US dollars) of the stock on that trading day.\n",
        "\n",
        "* `low`, the lowest price (US dollars) of the stock on that day.\n",
        "\n",
        "* `close`, the price (US dollars) of the stock at closing time, adjusted for splits.\n",
        "\n",
        "* `adj_close`, the closing price (US dollars), adjusted for splits and dividend and/or capital gain distributions.\n",
        "\n",
        "* `volume`, the amount of Tesla stock (number of shares) that has been traded on that day.\n",
        "\n",
        "Source: `finance.yahoo.com/quote/TSLA/history`."
      ],
      "metadata": {
        "id": "X2XX6zTeMAz_"
      }
    },
    {
      "cell_type": "markdown",
      "source": [
        "## Questions"
      ],
      "metadata": {
        "id": "GrnmwPGSMMtw"
      }
    },
    {
      "cell_type": "markdown",
      "source": [
        "Q1. Extract the data for the trading days previous to January 15th as a separate table.\n",
        "\n",
        "Q2. Use a **line plot** to see whether there is a **time trend** in the opening price.\n",
        "\n",
        "Q3. Use a line plot and a **histogram** to visualize the trading volume. What do you conclude?\n",
        "\n",
        "Q4. A direct measure of **volatility** can be obtained as the difference of the highest price minus the lowest price in a given trading day. This is called the **daily price variation**. Add the daily variation of the Tesla stock prices as a new column to the data set. Do you see a trend in the daily price variation? How is the distribution?\n",
        "\n",
        "Q5. Is there an **association** between the daily price variation and the trading volume? Is the volatility stronger the days in which more shares are traded?\n"
      ],
      "metadata": {
        "id": "2utvaGTgMSZI"
      }
    },
    {
      "cell_type": "markdown",
      "source": [
        "## Importing the data"
      ],
      "metadata": {
        "id": "ESiLjGU6MVym"
      }
    },
    {
      "cell_type": "markdown",
      "source": [
        "We import Pandas in the usual way:"
      ],
      "metadata": {
        "id": "0i6kRTu4MfEC"
      }
    },
    {
      "cell_type": "code",
      "source": [
        "import pandas as pd"
      ],
      "metadata": {
        "id": "dQ_DaFCGMinX"
      },
      "execution_count": null,
      "outputs": []
    },
    {
      "cell_type": "markdown",
      "source": [
        "In this course, we use a remote data sources. The source files are stored in a GitHub repository. In Pandas, remote source files work the same as local files, the only difference being in the path. For the source files of our examples, the path is:\n"
      ],
      "metadata": {
        "id": "9JVvM6MYMlKj"
      }
    },
    {
      "cell_type": "code",
      "source": [
        "path = 'https://raw.githubusercontent.com/MCanela-1954/Data/main/'"
      ],
      "metadata": {
        "id": "2HLTyB6KM85C"
      },
      "execution_count": null,
      "outputs": []
    },
    {
      "cell_type": "markdown",
      "source": [
        "This path can be joined to the file name, as `path + 'tesla.csv'` (in Python, the plus sign `+` can be used to concatenate strings). Now, we import the data, as a Pandas data frame, with the function `read_csv()`. Don't forget that the path must match the current location of the data source file, either local or remote."
      ],
      "metadata": {
        "id": "U5LGspheN9yC"
      }
    },
    {
      "cell_type": "code",
      "source": [
        "df = pd.read_csv(path + 'tesla.csv')"
      ],
      "metadata": {
        "id": "63CBUZeKNChE"
      },
      "execution_count": null,
      "outputs": []
    },
    {
      "cell_type": "markdown",
      "source": [
        "This creates the data frame `df`. Since nothing has been specified about the index when importing the data, a `RangeIndex` has been assigned to the data frame `df`. This means that the first row has index 0, the second row has index 1, etc."
      ],
      "metadata": {
        "id": "_keR6OKqNLnq"
      }
    },
    {
      "cell_type": "markdown",
      "source": [
        "## Exploring the data"
      ],
      "metadata": {
        "id": "SDM_xM5yOihx"
      }
    },
    {
      "cell_type": "markdown",
      "source": [
        "The report printed by the method `.info()` is probably the best way to start exploring a data frame."
      ],
      "metadata": {
        "id": "N87t0M9NRK1b"
      }
    },
    {
      "cell_type": "code",
      "source": [
        "df.info()"
      ],
      "metadata": {
        "id": "X_nV_B83RPkw"
      },
      "execution_count": null,
      "outputs": []
    },
    {
      "cell_type": "markdown",
      "source": [
        "The dimensions and the column names are what we expected. Since there are 1,004 index values and 1,004 non-null entries in every column, there are no missing values. Note that the column `date` has been imported by the function `read_csv()` as type `str` (reported as `object`). The numeric columns have been imported as either `int` or `float`, but this distinction is not relevant in this example.\n",
        "\n",
        "We can take a look at the first rows with the method `.head()`. Nothing unexpected here."
      ],
      "metadata": {
        "id": "4ru1eR7wRtWQ"
      }
    },
    {
      "cell_type": "code",
      "source": [
        "df.head()"
      ],
      "metadata": {
        "id": "3QyEzdaQRyg1"
      },
      "execution_count": null,
      "outputs": []
    },
    {
      "cell_type": "markdown",
      "source": [
        "A statistical summary can be extracted with the method `.describe()`. Note that the column `date`, which is not numeric, is omitted."
      ],
      "metadata": {
        "id": "0Tio4zLFR7Gd"
      }
    },
    {
      "cell_type": "code",
      "source": [
        "df.describe()"
      ],
      "metadata": {
        "id": "Ewg3ongKSHa2"
      },
      "execution_count": null,
      "outputs": []
    },
    {
      "cell_type": "markdown",
      "source": [
        "## Q1. Data previous to January 15th"
      ],
      "metadata": {
        "id": "2LuS8mbVSKS5"
      }
    },
    {
      "cell_type": "markdown",
      "source": [
        "Filtering by date is common for this type of data. In Pandas, we can extract rows of a data frame by means of an expression that matches exactly these rows (in SQL, this is called a `WHERE` condition). For this question, that expression can be `df['date'] < '2021-01-15'`."
      ],
      "metadata": {
        "id": "0hOTTUgaSVJY"
      }
    },
    {
      "cell_type": "code",
      "source": [
        "filter_expr = df['date'] < '2021-01-15'\n",
        "df[filter_expr]"
      ],
      "metadata": {
        "id": "ygXDdj6L4hOT"
      },
      "execution_count": null,
      "outputs": []
    },
    {
      "cell_type": "markdown",
      "source": [
        "## Q2. Line plot for the opening price"
      ],
      "metadata": {
        "id": "144EGCMASmz5"
      }
    },
    {
      "cell_type": "markdown",
      "source": [
        "Analysts typically explore trends in stock prices. For the opening price, the corresponding column is extracted as the series `df['open']`. The method `.plot()` returns a line plot. The role of the parameters `figsize`, `color` and `linewidth` is clear. Though `linewidth=1` is a default argument, it has been explicitly included to call your attention."
      ],
      "metadata": {
        "id": "prCoqFkRTk6L"
      }
    },
    {
      "cell_type": "code",
      "source": [
        "df['open'].plot(figsize=(8,5), title='Figure 1. Opening price (USD)',\n",
        "    color='black', linewidth=1);"
      ],
      "metadata": {
        "id": "g3IsYQSRTrYE"
      },
      "execution_count": null,
      "outputs": []
    },
    {
      "cell_type": "markdown",
      "source": [
        "In this case, the line plot does not show an obvious upwards trend, but a sequence of short trends, up and down.\n",
        "\n",
        "*Note*. The semicolon at the end of the code input stops some irrelevant output showing up. It does not affect the plot."
      ],
      "metadata": {
        "id": "V0o9JdOFT6Hr"
      }
    },
    {
      "cell_type": "markdown",
      "source": [
        "## Q3. Line plot and histogram for the trading volume"
      ],
      "metadata": {
        "id": "pN9csiCTWJu9"
      }
    },
    {
      "cell_type": "markdown",
      "source": [
        "The numbers for the trading volume are high, since it comes as a number of shares. In such cases, rescaling can improve the picture. Here, we express the volume in millions of shares:"
      ],
      "metadata": {
        "id": "WxYexFnvWNFh"
      }
    },
    {
      "cell_type": "code",
      "source": [
        "df['volume'] = df['volume']/10**6"
      ],
      "metadata": {
        "id": "-sueSKLGWUru"
      },
      "execution_count": null,
      "outputs": []
    },
    {
      "cell_type": "markdown",
      "source": [
        "A line plot for the trading volume can be obtained just as for the opening price."
      ],
      "metadata": {
        "id": "DlBjJQs1WXah"
      }
    },
    {
      "cell_type": "code",
      "source": [
        "df['volume'].plot(figsize=(8,5), title='Figure 2. Trading volume (million shares)',\n",
        "    color='black', linewidth=1);"
      ],
      "metadata": {
        "id": "d11-hZ6IWZq4"
      },
      "execution_count": null,
      "outputs": []
    },
    {
      "cell_type": "markdown",
      "source": [
        "The trading volume looks quite **stationary**. So, it may make sense to look at the distribution of the daily volumes, as if they were extracted from a \"population\". The histogram is a quick and dirty graphical tool for viusualizing a statistical distribution.\n",
        "\n",
        "In Pandas, the method `.plot.hist()` returns a histogram. The argument `edgecolor='white'` improves the picture (you may disagree), delineating the border of the histogram bars."
      ],
      "metadata": {
        "id": "d4sVq3nkWc1p"
      }
    },
    {
      "cell_type": "code",
      "source": [
        "df['volume'].plot.hist(figsize=(7,5),\n",
        "    title='Figure 3. Trading volume (alternative visualization)',\n",
        "    color='gray', edgecolor='white', xlabel='Trading volume (million shares)');"
      ],
      "metadata": {
        "id": "ZmMepkBWWuVx"
      },
      "execution_count": null,
      "outputs": []
    },
    {
      "cell_type": "markdown",
      "source": [
        "We don't see here the bell-shaped profile of the statisticians' beloved model, the **normal distribution**, but that of a **skewed distribution**. This type of distribution, with a well-defined **right tail**, is typical of variables whose values are amounts of money.\n"
      ],
      "metadata": {
        "id": "buZKQFIEWyX1"
      }
    },
    {
      "cell_type": "markdown",
      "source": [
        "## Q4. Analysis of the daily price variation"
      ],
      "metadata": {
        "id": "YSoWQmzsW6YN"
      }
    },
    {
      "cell_type": "markdown",
      "source": [
        "We can calculate the daily price variation and keep it as a separate series, or add it as a new column to the current data frame `df`. We choose here the second option.\n"
      ],
      "metadata": {
        "id": "sy9H4XWgW9rt"
      }
    },
    {
      "cell_type": "code",
      "source": [
        "df['dvar'] = df['high'] - df['low']"
      ],
      "metadata": {
        "id": "cOR5RQF6W_ys"
      },
      "execution_count": null,
      "outputs": []
    },
    {
      "cell_type": "markdown",
      "source": [
        "Now, when  displaying the heading rows of the new data frame, we see the new column on the right side."
      ],
      "metadata": {
        "id": "xkDYclx8XCpi"
      }
    },
    {
      "cell_type": "code",
      "source": [
        "df.head()"
      ],
      "metadata": {
        "id": "LkcwT9yqXFn3"
      },
      "execution_count": null,
      "outputs": []
    },
    {
      "cell_type": "markdown",
      "source": [
        "\n",
        "The line plot and the histogram are obtained as for the trading volume. The distribution of the trading volume is more skewed, with a longer right tail.\n"
      ],
      "metadata": {
        "id": "H5U60T41XKdA"
      }
    },
    {
      "cell_type": "code",
      "source": [
        "df['dvar'].plot(figsize=(8,5), title='Figure 4. Daily price variation (USD)',\n",
        "    color='black', linewidth=1);"
      ],
      "metadata": {
        "id": "zXPqX86LXOA-"
      },
      "execution_count": null,
      "outputs": []
    },
    {
      "cell_type": "code",
      "source": [
        "df['dvar'].plot.hist(figsize=(7,5),\n",
        "    title='Figure 5. Daily price variation (alternative visualization)',\n",
        "    color='gray', edgecolor='white', xlabel='Daily price variation (USD)');"
      ],
      "metadata": {
        "id": "lwC25ThGXTLs"
      },
      "execution_count": null,
      "outputs": []
    },
    {
      "cell_type": "markdown",
      "source": [
        "## Q5. Association between daily price variation and trading volume"
      ],
      "metadata": {
        "id": "SdM7BUNIXY8G"
      }
    },
    {
      "cell_type": "markdown",
      "source": [
        "Common wisdom tells us that price will show more intraday variation the days in which there is more trading activity, and less intraday variation with low activity. Though comparing line plots may give us an idea of this type of association, it is better to display together the two series in a **scatter plot**. We can get a scatter plot in Pandas with the method `.plot.scatter()`."
      ],
      "metadata": {
        "id": "9Ak0HN44YBZJ"
      }
    },
    {
      "cell_type": "code",
      "source": [
        "df.plot.scatter(x='volume', y='dvar',\n",
        "    title='Figure 6. Daily variation vs volume', figsize=(5,5), color='gray',\n",
        "    xlabel='Trading volume (million shares)', ylabel='Daily price variation (USD)');"
      ],
      "metadata": {
        "id": "6enHn6jOYDpO"
      },
      "execution_count": null,
      "outputs": []
    },
    {
      "cell_type": "markdown",
      "source": [
        "The scatter plot somewhat confirms our guess of a positive association between the trading volume and the daily variation, though the interpretation of plots is always subjective. To be objective, statisticians use the correlation to evaluate the strength of the association. More specifically, the correlation tells us the extent to which one series can be represented as a linear expression of the other series. The correlation can be positive or negative. A strong correlation is one which is close to 1 (or -1), and a weak correlation one which is close to 0.\n",
        "\n",
        "In Pandas, correlations can be calculated with the method `.corr()`. In this case, though the correlation is weak, it confirms our guess."
      ],
      "metadata": {
        "id": "kZxkd1piYHPL"
      }
    },
    {
      "cell_type": "code",
      "source": [
        "df['volume'].corr(df['dvar'])"
      ],
      "metadata": {
        "id": "Fa_O4ZXTYNKe"
      },
      "execution_count": null,
      "outputs": []
    },
    {
      "cell_type": "markdown",
      "source": [
        "You may wonder why do you need so many decimals for a correlation. Indeed, correlations are better expressed with two (maybe three) decimals. You can get this with the method `.round()`.\n"
      ],
      "metadata": {
        "id": "zpLkfRWsYP-o"
      }
    },
    {
      "cell_type": "code",
      "source": [
        "df['volume'].corr(df['dvar']).round(2)"
      ],
      "metadata": {
        "id": "-LVq1R_tYuZ4"
      },
      "execution_count": null,
      "outputs": []
    },
    {
      "cell_type": "markdown",
      "source": [
        "*Note*. Don't pay attention to this numbers showing up as `np.float`. If you use the function `print()` on them. This will disappear."
      ],
      "metadata": {
        "id": "oSmjwvA17_nV"
      }
    },
    {
      "cell_type": "markdown",
      "source": [
        "## Homework"
      ],
      "metadata": {
        "id": "NA2ukAJtYu13"
      }
    },
    {
      "cell_type": "markdown",
      "source": [
        "1. The **daily return** is the percentage change in the price with respect to the preceding trading day. If $p(t)$ is the price on day $t$, the corresponding return would be\n",
        "$$r(t) =\\frac{p(t) - p(t-1)}{p(t-1)}=\\frac{p(t)}{p(t-1)}-1,$$\n",
        "which can be multiplied by 100 to get percentage scale. Use the Pandas method `.pct_change()` to calculate the daily returns of the opening price. How is the distribution of the daily return of the opening price? Is there an association between the daily return and the trading volume?\n",
        "\n",
        "2. Instead of calculating the daily return for the opening price as in the preceding exercise, which is the usual practice, calculate a daily return as the difference of the closing price minus the opening price (of the same day) as a percentage of the opening price. Perform a similar analysis and compare the results.\n",
        "\n",
        "3. The opening price on a particular day is not the same as the closing price the day before. As a rule, is it higher or lower? Or there is no clear rule? How big can be the difference of the opening price tomorrow minus the closing price today, as a percentage of the closing price today?\n"
      ],
      "metadata": {
        "id": "CCTbxMzzYz1A"
      }
    }
  ]
}